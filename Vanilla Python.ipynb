{
 "cells": [
  {
   "cell_type": "markdown",
   "metadata": {},
   "source": [
    "# PyPyPyPyPyPyPyPyPyPy 1.0 \n",
    "## Get Started"
   ]
  },
  {
   "cell_type": "markdown",
   "metadata": {},
   "source": [
    "sources : \n",
    "1. [GeeksforGeeks](https://www.geeksforgeeks.org)\n",
    "2. [Programiz](https://www.programiz.com)\n",
    "3. [Generators Explained](https://jeffknupp.com/blog/2013/04/07/improve-your-python-yield-and-generators-explained/)"
   ]
  },
  {
   "cell_type": "markdown",
   "metadata": {},
   "source": [
    "# INDEX\n",
    "\n",
    "|Sno|Name|What|\n",
    "|---|----|----|\n",
    "|1|__Bare Basics__|<a href='#section1'>link</a> | \n",
    "|2|__Basic IO__|<a href='#section2'>link</a> | \n",
    "|3|__Variables & Data Types__|<a href='#section3'>link</a> |\n",
    "|3.1|List|<a href='#section3-1'>link</a> |\n",
    "|3.2|String|<a href='#section3-2'>link</a> |\n",
    "|3.3|Tuple|<a href='#section3-3'>link</a> |\n",
    "|3.4|Sets|<a href='#section3-4'>link</a> |\n",
    "|3.5|Dictionary|<a href='#section3-5'>link</a> |\n",
    "|4|__Flow Control__|<a href='#section4'>link</a> | \n",
    "|5|__Functions__|<a href='#section5'>link</a> | \n",
    "|6|__Classes__|<a href='#section6'>link</a> | \n",
    "|7|__OOP__|<a href='#section7'>link</a> |  \n",
    "|9|__Extra Dopeness__|<a href='#section9'>link</a> |\n",
    "|9.1|Map|<a href='#section9-1'>link</a> |\n",
    "|9.2|Zip|<a href='#section9-2'>link</a> |\n",
    "|9.3|Lambda|<a href='#section9-3'>link</a> |\n",
    "|9.4|Generators|<a href='#section9-4'>link</a> |\n",
    "|9.5|Misc STL|<a href='#section9-5'>link</a> |\n",
    "|9.7|Iterators in Python|<a href='#section9-7'>link</a> |\n",
    "\n",
    "\n",
    "\n"
   ]
  },
  {
   "cell_type": "markdown",
   "metadata": {},
   "source": [
    "### 1. Bare Basics   <a id='section1'></a>"
   ]
  },
  {
   "cell_type": "markdown",
   "metadata": {},
   "source": [
    "Python Code -> __CPYTHON Compiler__ -> Python Bytecode -> __Python Virtual Machine__ -> Machine Code"
   ]
  },
  {
   "cell_type": "markdown",
   "metadata": {},
   "source": [
    "_________________"
   ]
  },
  {
   "cell_type": "markdown",
   "metadata": {},
   "source": [
    "### 2. Basic IO   <a id='section2'></a>"
   ]
  },
  {
   "cell_type": "code",
   "execution_count": 1,
   "metadata": {},
   "outputs": [
    {
     "name": "stdout",
     "output_type": "stream",
     "text": [
      "Hello World\n",
      "Hello WorldHello WorldHello World\n"
     ]
    }
   ],
   "source": [
    "# Printing Stuff \n",
    "print('Hello World')\n",
    "\n",
    "# Pringing stuff with doing operations with them \n",
    "print('Hello World'*3)"
   ]
  },
  {
   "cell_type": "code",
   "execution_count": 39,
   "metadata": {},
   "outputs": [
    {
     "name": "stdout",
     "output_type": "stream",
     "text": [
      "he is lay\n"
     ]
    }
   ],
   "source": [
    "#Using .format operator\n",
    "print('he is {0}'.format('lay'))"
   ]
  },
  {
   "cell_type": "code",
   "execution_count": 24,
   "metadata": {},
   "outputs": [
    {
     "name": "stdout",
     "output_type": "stream",
     "text": [
      "he is so so nope\n",
      "he is so so 13\n"
     ]
    }
   ],
   "source": [
    "# Using F-Strings\n",
    "yolo ='nope'\n",
    "op = 13\n",
    "print(f'he is so so {yolo}')\n",
    "print(f'he is so so {op}')"
   ]
  },
  {
   "cell_type": "code",
   "execution_count": 3,
   "metadata": {},
   "outputs": [
    {
     "name": "stdout",
     "output_type": "stream",
     "text": [
      "x:yolo\n",
      "3\n",
      "3\n",
      "poop\n",
      "4\n",
      "7\n"
     ]
    },
    {
     "data": {
      "text/plain": [
       "True"
      ]
     },
     "execution_count": 3,
     "metadata": {},
     "output_type": "execute_result"
    }
   ],
   "source": [
    "# Input \n",
    "\n",
    "\n",
    "x = input('x:yolo\\n')\n",
    "print(x)\n",
    "\n",
    "#if entering number for math , convert simultaneously\n",
    "y = int(input('poop\\n'))\n",
    "print(y + 3)\n",
    "\n",
    "\n",
    "### Conversions \n",
    "x = '7'\n",
    "int(x)\n",
    "float(x)\n",
    "bool(x)\n",
    "\n",
    "\n",
    "\n",
    "\n",
    "\n",
    "# Falsy Values  in Boolean (values considered false)\n",
    "#  ''\n",
    "#  0\n",
    "#  []\n",
    "#  None"
   ]
  },
  {
   "cell_type": "markdown",
   "metadata": {},
   "source": [
    "_________________"
   ]
  },
  {
   "cell_type": "markdown",
   "metadata": {},
   "source": [
    "### 3. Variables & Types of Data <a id='section3'></a>\n",
    "\n",
    "#### DS = Linear + Non Linear  <br> \n",
    "__Linear DS__\n",
    "1. Array\n",
    "2. Linked List \n",
    "3. Stacks - _FILO_\n",
    "4. Queues - _FIFO_ \n",
    "5. Matrix\n",
    "\n",
    "\n",
    "__Non-Linear DS__\n",
    "1. Binary Tree\n",
    "2. Heap\n",
    "3. Hash Table \n",
    "4. Graph \n",
    "\n",
    "\n",
    "\n",
    "\n",
    "\n",
    "__PYTHON SPECIFIC__ \n",
    "1. List \n",
    "2. Tuple\n",
    "3. Dictionary\n"
   ]
  },
  {
   "cell_type": "markdown",
   "metadata": {},
   "source": [
    "#### 3.1 - LISTS    <a id='section3-1'></a>\n",
    "\n",
    "Storing stuff in a sequential manner \n"
   ]
  },
  {
   "cell_type": "code",
   "execution_count": 49,
   "metadata": {},
   "outputs": [],
   "source": [
    "task= ['killthe musi','kill the joy']"
   ]
  },
  {
   "cell_type": "markdown",
   "metadata": {},
   "source": [
    "__List Functions__\n",
    "\n",
    "\n",
    "```python\n",
    "test = [1,324,134,1,41,2,12,4,124,12,4,12,4,124]\n",
    "\n",
    "len(test) # Gives length , NOT INDEX\n",
    "\n",
    "\n",
    "1 in test  # Check availability in list - Returns bool \n",
    "\n",
    "list_name.append('elementToAdd')\n",
    "list_name.extend([3,4,1,1])   # Adds list to end without nesting \n",
    "list_name.insert(indexToAddTo,dataToAdd) # Adds an element to the inxed given pushes the current backward \n",
    "\n",
    "list_name.clear() # Empty a list\n",
    "list_name.pop() # Empty last item \n",
    "list_name.pop(index) # Remote the element at the index \n",
    "list_name.remove(item) # Removes the first instance of item\n",
    "\n",
    "\n",
    "list_name.index(item,afterThisIndex , beforeThisIndex) # Find the index of item between limiters \n",
    "list_name.count(item) # Count instances of item \n",
    "\n",
    "list_name.reverse()\n",
    "\n",
    "list_name.sort()\n",
    "\n",
    "howToJoin.join(list_name)\n",
    "\n",
    "del listName[indexToRemove]\n",
    "\n",
    "sum(list_name) #function to find the sum of a list \n",
    "sum(list_name,begin) # function to sum list , add begin to top \n",
    "```"
   ]
  },
  {
   "cell_type": "code",
   "execution_count": 50,
   "metadata": {},
   "outputs": [
    {
     "name": "stdout",
     "output_type": "stream",
     "text": [
      "[123, 124, 12, 412, 421, 2]\n",
      "[123, 124, 12, 421, 2]\n"
     ]
    }
   ],
   "source": [
    "# Deleting list element\n",
    "\n",
    "lstry = [123,124,12,412,421,2]\n",
    "print(lstry)\n",
    "del lstry[3]\n",
    "print(lstry)"
   ]
  },
  {
   "cell_type": "code",
   "execution_count": 51,
   "metadata": {},
   "outputs": [
    {
     "data": {
      "text/plain": [
       "'So help me god'"
      ]
     },
     "execution_count": 51,
     "metadata": {},
     "output_type": "execute_result"
    }
   ],
   "source": [
    "ls = ['So' , 'help','me','god']\n",
    "ls2 = ' '.join(ls)\n",
    "ls2\n"
   ]
  },
  {
   "cell_type": "markdown",
   "metadata": {},
   "source": [
    "__Slicing Lists__\n",
    "Need to have at least one colon  <br>\n",
    "\n",
    "Start - Stop - Step <br>\n",
    "Start included  <br>\n",
    "Stop Not Included <br>\n",
    "\n",
    "```python\n",
    "\n",
    "list_name = [1,2,3,4,5,6,7,8,9]\n",
    "\n",
    "```"
   ]
  },
  {
   "cell_type": "code",
   "execution_count": 52,
   "metadata": {},
   "outputs": [
    {
     "data": {
      "text/plain": [
       "[4, 5]"
      ]
     },
     "execution_count": 52,
     "metadata": {},
     "output_type": "execute_result"
    }
   ],
   "source": [
    "list_name = [1,2,3,4,5,6,7,8,9]\n",
    "list_name[3:5]"
   ]
  },
  {
   "cell_type": "markdown",
   "metadata": {},
   "source": [
    "__Swapping List Elements__\n",
    "\n",
    "```python\n",
    "test = [1,4]\n",
    "test[0],test[1] = test[1] ,test[0]\n",
    "\n",
    "```"
   ]
  },
  {
   "cell_type": "markdown",
   "metadata": {},
   "source": [
    "__List Comprehenstion__\n",
    "\n",
    "Make tweaked versions of existing lists easily \n",
    "\n",
    "SYNTAX\n",
    "```python\n",
    "[__ for ___ in ___]\n",
    "[operation for iterating_variable in list_name]   \n",
    "\n",
    "# Example\n",
    "squares = [x**2 for x in range(10)]\n",
    "\n",
    "# IF  \n",
    "[__ for ___ in ___ if ___] \n",
    "[operation for iterating_variable in list_name if condition] \n",
    "\n",
    "# ELSE  \n",
    "[__ if _____ else _____ for  ___ in ___ ] \n",
    "[operation1 if condition else operation2 for iterating variable in list_name  ]  \n",
    "\n",
    "#use \n",
    "' '.join(LC STATEMENT)\n",
    "\n",
    "```"
   ]
  },
  {
   "cell_type": "code",
   "execution_count": 27,
   "metadata": {},
   "outputs": [],
   "source": [
    "list2 = [131,24,12,41,24,12,4]"
   ]
  },
  {
   "cell_type": "code",
   "execution_count": 28,
   "metadata": {},
   "outputs": [
    {
     "data": {
      "text/plain": [
       "7"
      ]
     },
     "execution_count": 28,
     "metadata": {},
     "output_type": "execute_result"
    }
   ],
   "source": [
    "len(list2)"
   ]
  },
  {
   "cell_type": "code",
   "execution_count": 55,
   "metadata": {},
   "outputs": [
    {
     "data": {
      "text/plain": [
       "True"
      ]
     },
     "execution_count": 55,
     "metadata": {},
     "output_type": "execute_result"
    }
   ],
   "source": [
    "test = [1,324,134,1,41,2,12,4,124,12,4,12,4,124]\n",
    "1 in test"
   ]
  },
  {
   "cell_type": "code",
   "execution_count": 56,
   "metadata": {},
   "outputs": [],
   "source": [
    "no = 500\n",
    "name = 'Boy'\n",
    "some_day = 12.43\n",
    "is_what = True \n",
    "big_string = '''this is so fucking what \n",
    "and idk how i can do it \n",
    "'''\n",
    "multiple , variables = 2 , 3 \n",
    "also = this = 4 \n"
   ]
  },
  {
   "cell_type": "code",
   "execution_count": 57,
   "metadata": {},
   "outputs": [
    {
     "name": "stdout",
     "output_type": "stream",
     "text": [
      "<class 'int'>\n",
      "4374225296\n"
     ]
    }
   ],
   "source": [
    "print(type(no))    # find the type of data \n",
    "print(id(is_what))  # find the location "
   ]
  },
  {
   "cell_type": "markdown",
   "metadata": {},
   "source": [
    "Python is a __dynamic language__\n",
    "All datatypes are declared as __classes__"
   ]
  },
  {
   "cell_type": "markdown",
   "metadata": {},
   "source": [
    "__Type Annotation__ <br/>\n",
    "Linter gives error when type changes \n",
    "\n",
    "```python\n",
    "age: int = 20\n",
    " ```"
   ]
  },
  {
   "cell_type": "code",
   "execution_count": 58,
   "metadata": {},
   "outputs": [
    {
     "name": "stdout",
     "output_type": "stream",
     "text": [
      "int\n",
      "4427721584\n",
      "4427720144\n",
      "location changes on change\n",
      "\n",
      "\n",
      "list\n",
      "4427695688\n",
      "4427695688\n",
      "location remains same on change\n"
     ]
    }
   ],
   "source": [
    "#Lists are mutable \n",
    "print('int')\n",
    "some_int = 1234\n",
    "print(id(some_int))\n",
    "some_int = 12334\n",
    "print(id(some_int))\n",
    "print('location changes on change')\n",
    "print('\\n')\n",
    "\n",
    "\n",
    "#Normal integers are immutable \n",
    "print('list')\n",
    "some_list = [2,4,3,3]\n",
    "print(id(some_list))\n",
    "some_list.append(3)\n",
    "print(id(some_list))\n",
    "print('location remains same on change')"
   ]
  },
  {
   "cell_type": "markdown",
   "metadata": {},
   "source": [
    "#### 3.2 - Strings   <a id='section3-2'></a>"
   ]
  },
  {
   "cell_type": "code",
   "execution_count": 59,
   "metadata": {},
   "outputs": [
    {
     "name": "stdout",
     "output_type": "stream",
     "text": [
      "7\n",
      "M\n",
      "e\n",
      "My \n",
      "My \n",
      "Name\n"
     ]
    }
   ],
   "source": [
    "str_name = 'My Name'\n",
    "print(len(str_name))\n",
    "print(str_name[0])      # First Character\n",
    "print(str_name[-1])     # Last Character\n",
    "print(str_name[0:3])    # 0,1,2    (only first included)\n",
    "print(str_name[:3])     # first index -> 2\n",
    "print(str_name[3:])     # 3-> last index"
   ]
  },
  {
   "cell_type": "code",
   "execution_count": 60,
   "metadata": {},
   "outputs": [
    {
     "name": "stdout",
     "output_type": "stream",
     "text": [
      "mah nibba\n",
      "mah nibba\n"
     ]
    }
   ],
   "source": [
    "first = 'mah'\n",
    "last = 'nibba'\n",
    "\n",
    "#Concatenation \n",
    "concat = first+' '+last \n",
    "print(concat)\n",
    "\n",
    "#Better \n",
    "better_concat = f'{first} {last}'\n",
    "print(better_concat)"
   ]
  },
  {
   "cell_type": "code",
   "execution_count": 61,
   "metadata": {},
   "outputs": [
    {
     "name": "stdout",
     "output_type": "stream",
     "text": [
      "   SHEILA KI JAWANI  \n",
      "   sheila ki jawani  \n",
      "   Sheila Ki Jawani  \n",
      "sheila ki Jawani\n",
      "10\n",
      "yoyoyosheilayokiyoJawaniyoyo\n",
      "True\n",
      "True\n"
     ]
    }
   ],
   "source": [
    "#String Methods\n",
    "var = '   sheila ki Jawani  '\n",
    "\n",
    "# UpperCase\n",
    "print(var.upper())\n",
    "\n",
    "# LowerCase\n",
    "print(var.lower())\n",
    "\n",
    "# TitleCase\n",
    "print(var.title())\n",
    "\n",
    "\n",
    "# Strip spaces \n",
    "print(var.strip())\n",
    "\n",
    "# String search\n",
    "# is case sensitive\n",
    "print(var.find('ki'))\n",
    "\n",
    "# String Replace\n",
    "print(var.replace(' ','yo'))\n",
    "\n",
    "# String Checker \n",
    "print('sheila' in var)\n",
    "print('jawani' not in var)      #Case Sensitive\n"
   ]
  },
  {
   "cell_type": "code",
   "execution_count": 62,
   "metadata": {},
   "outputs": [
    {
     "name": "stdout",
     "output_type": "stream",
     "text": [
      "   sheila ki Jawani  \n"
     ]
    }
   ],
   "source": [
    "print(var)"
   ]
  },
  {
   "cell_type": "markdown",
   "metadata": {},
   "source": [
    "#### Integers "
   ]
  },
  {
   "cell_type": "code",
   "execution_count": 63,
   "metadata": {},
   "outputs": [
    {
     "name": "stdout",
     "output_type": "stream",
     "text": [
      "2\n"
     ]
    }
   ],
   "source": [
    "x = 0b10 #binary after 0b\n",
    "print(x)"
   ]
  },
  {
   "cell_type": "code",
   "execution_count": 64,
   "metadata": {},
   "outputs": [
    {
     "name": "stdout",
     "output_type": "stream",
     "text": [
      "0b100100101001\n",
      "0x929\n"
     ]
    }
   ],
   "source": [
    "y = 2345\n",
    "print(bin(y))\n",
    "print(hex(y))"
   ]
  },
  {
   "cell_type": "code",
   "execution_count": 65,
   "metadata": {},
   "outputs": [
    {
     "name": "stdout",
     "output_type": "stream",
     "text": [
      "(1+2j)\n"
     ]
    }
   ],
   "source": [
    "# Complex Numbers \n",
    "imaginary_no = 1+2j\n",
    "print(imaginary_no)"
   ]
  },
  {
   "cell_type": "code",
   "execution_count": 66,
   "metadata": {},
   "outputs": [
    {
     "name": "stdout",
     "output_type": "stream",
     "text": [
      "12\n",
      "8\n",
      "20\n",
      "5.0\n",
      "5\n",
      "0\n",
      "100\n"
     ]
    }
   ],
   "source": [
    "# Operations \n",
    "x ,y = 10 ,2 \n",
    "\n",
    "print(x + y)\n",
    "print(x - y)\n",
    "print(x * y)\n",
    "print(x / y)\n",
    "print(x // y)\n",
    "print(x % y)\n",
    "print(x ** y)\n",
    "\n"
   ]
  },
  {
   "cell_type": "code",
   "execution_count": 67,
   "metadata": {},
   "outputs": [
    {
     "name": "stdout",
     "output_type": "stream",
     "text": [
      "12\n",
      "34.3666\n",
      "12\n"
     ]
    }
   ],
   "source": [
    "# Functions \n",
    "\n",
    "pos = 12.13\n",
    "neg = -34.3666\n",
    "\n",
    "print(round(pos))\n",
    "print(abs(neg))\n",
    "\n",
    "\n",
    "import math\n",
    "print(math.floor(pos))\n"
   ]
  },
  {
   "cell_type": "markdown",
   "metadata": {},
   "source": [
    "#### 3.3 - TUPLES   <a id='section3-3'></a>\n",
    "\n",
    "Ordered Grouping of items <br>\n",
    "Use _Parenthesis_\n",
    "<br>__immutable__<br>\n",
    "\n",
    "__Why Tuples__\n",
    "1. Faster than Lists (Hashable in Nature)\n",
    "2. Can be used as Keys in Dictionaries \n",
    "3. Some methods eg _dict.items()_ returns tuples \n",
    "\n",
    "__Methods__\n",
    "```python\n",
    "tupVar.count(x) # Counts no of times x appears\n",
    "tupVar.index(x) # Returns value of index of x or ValueError if not present \n",
    "\n",
    "```\n"
   ]
  },
  {
   "cell_type": "code",
   "execution_count": 68,
   "metadata": {},
   "outputs": [],
   "source": [
    "tuple_var = (3,1,4,2,5)\n",
    "tuple_var2 = (2,)     # A single term tuple variable "
   ]
  },
  {
   "cell_type": "markdown",
   "metadata": {},
   "source": [
    "#### 3.4 - SETS   <a id='section3-4'></a>\n",
    "\n",
    "Just like Mathematical Sets\n",
    "Do not have duplicate Values \n",
    "No Order \n",
    "No Indexing Basically dictionary and pairs \n",
    "\n",
    "```python\n",
    "# Declaring a set\n",
    "set_var = {123,1233,1213}\n",
    "\n",
    "\n",
    "set_var_2 = {123,123,1213}  # => {123,1213} \n",
    "\n",
    "# Test for availability \n",
    "number in set_var # => Returns true or False\n",
    "```\n",
    "\n",
    "\n",
    "Easy conversion between sets and lists and vice versa using __set(list_var)__ or __list(set_var)__\n",
    "\n",
    "\n",
    "__Methods__\n",
    "```python\n",
    "# Add a value(no) to the set \n",
    "set_var.add(no) \n",
    "\n",
    "# Remove a value(val) from the set \n",
    "set_var.remove(val) \n",
    "\n",
    "# Remove a value(val) from the set \n",
    "set_var.discard(val)    # No error if element not present\n",
    "\n",
    "# Copy a set \n",
    "another_var = ser_var.copy()\n",
    "\n",
    "# Intersection , Symmetric Difference , Union  (Returns Set)\n",
    "\n",
    "set_var_one | set_var_one    #or \n",
    "set_var_one & set_var_one    #and\n",
    "\n",
    "```\n",
    "\n",
    "__Set Comprehenstion__\n",
    "\n",
    "Make tweaked versions of existing sets easily \n",
    "\n",
    "SYNTAX\n",
    "```python\n",
    "{__ for ___ in ___}\n",
    "[operation for iterating_variable in list_name]   \n",
    "\n",
    "{x**2 for x in range(10)}\n",
    "{0, 1, 4, 9, 16, 25, 36, 49, 64, 81}\n",
    "\n",
    "{x:x**2 for x in range(10)}\n",
    "{0: 0, 1: 1, 2: 4, 3: 9, 4: 16, 5: 25, 6: 36, 7: 49, 8: 64, 9: 81}\n",
    "\n",
    "\n",
    "\n",
    "# IF  \n",
    "[__ for ___ in ___ if ___] \n",
    "[operation for iterating_variable in list_name if condition] \n",
    "\n",
    "# ELSE  \n",
    "[__ if _____ else _____ for  ___ in ___ ] \n",
    "[operation1 if condition else operation2 for iterating variable in list_name  ]  \n",
    "\n",
    "#use \n",
    "' '.join(LC STATEMENT)\n",
    "\n",
    "```\n"
   ]
  },
  {
   "cell_type": "code",
   "execution_count": 69,
   "metadata": {},
   "outputs": [
    {
     "data": {
      "text/plain": [
       "{0, 1, 4, 9, 16, 25, 36, 49, 64, 81}"
      ]
     },
     "execution_count": 69,
     "metadata": {},
     "output_type": "execute_result"
    }
   ],
   "source": [
    "{x**2 for x in range(10)}"
   ]
  },
  {
   "cell_type": "code",
   "execution_count": 70,
   "metadata": {},
   "outputs": [
    {
     "data": {
      "text/plain": [
       "{0: 0, 1: 1, 2: 4, 3: 9, 4: 16, 5: 25, 6: 36, 7: 49, 8: 64, 9: 81}"
      ]
     },
     "execution_count": 70,
     "metadata": {},
     "output_type": "execute_result"
    }
   ],
   "source": [
    "{x:x**2 for x in range(10)}"
   ]
  },
  {
   "cell_type": "code",
   "execution_count": 71,
   "metadata": {},
   "outputs": [],
   "source": [
    "set_var = {123,123,1213}"
   ]
  },
  {
   "cell_type": "code",
   "execution_count": 72,
   "metadata": {},
   "outputs": [
    {
     "data": {
      "text/plain": [
       "{123, 1213}"
      ]
     },
     "execution_count": 72,
     "metadata": {},
     "output_type": "execute_result"
    }
   ],
   "source": [
    "set_var"
   ]
  },
  {
   "cell_type": "markdown",
   "metadata": {},
   "source": [
    "#### 3.5 - DICTIONARY   <a id='section3-5'></a>"
   ]
  },
  {
   "cell_type": "code",
   "execution_count": 73,
   "metadata": {},
   "outputs": [],
   "source": [
    "# Declaration of dictionary \n",
    "dictVar = {'yplo':\"2\",'age':2}"
   ]
  },
  {
   "cell_type": "code",
   "execution_count": 74,
   "metadata": {},
   "outputs": [
    {
     "data": {
      "text/plain": [
       "{'yplo': '2', 'age': 2}"
      ]
     },
     "execution_count": 74,
     "metadata": {},
     "output_type": "execute_result"
    }
   ],
   "source": [
    "dictVar"
   ]
  },
  {
   "cell_type": "code",
   "execution_count": 75,
   "metadata": {},
   "outputs": [],
   "source": [
    "dictVar['addAKey'] = 3"
   ]
  },
  {
   "cell_type": "code",
   "execution_count": 76,
   "metadata": {},
   "outputs": [
    {
     "data": {
      "text/plain": [
       "'2'"
      ]
     },
     "execution_count": 76,
     "metadata": {},
     "output_type": "execute_result"
    }
   ],
   "source": [
    "# Seeing a value in dictionary\n",
    "dictVar['yplo']"
   ]
  },
  {
   "cell_type": "code",
   "execution_count": 77,
   "metadata": {},
   "outputs": [
    {
     "name": "stdout",
     "output_type": "stream",
     "text": [
      "2\n"
     ]
    }
   ],
   "source": [
    "# Another Method for accessing the dictinary values using get\n",
    "print(dictVar.get('yplo'))\n"
   ]
  },
  {
   "cell_type": "code",
   "execution_count": 78,
   "metadata": {},
   "outputs": [
    {
     "name": "stdout",
     "output_type": "stream",
     "text": [
      "Initial Dictionary: \n",
      "{5: 'Welcome', 6: 'To', 7: 'Geeks', 'A': {1: 'Geeks', 2: 'For', 3: 'Geeks'}, 'B': {1: 'Geeks', 2: 'Life'}}\n",
      "\n",
      "Deleting a specific key: \n",
      "{5: 'Welcome', 7: 'Geeks', 'A': {1: 'Geeks', 2: 'For', 3: 'Geeks'}, 'B': {1: 'Geeks', 2: 'Life'}}\n",
      "\n",
      "Deleting a key from Nested Dictionary: \n",
      "{5: 'Welcome', 7: 'Geeks', 'A': {1: 'Geeks', 3: 'Geeks'}, 'B': {1: 'Geeks', 2: 'Life'}}\n",
      "\n",
      "Popping specific element: \n",
      "{7: 'Geeks', 'A': {1: 'Geeks', 3: 'Geeks'}, 'B': {1: 'Geeks', 2: 'Life'}}\n",
      "\n",
      "Pops first element: \n",
      "{7: 'Geeks', 'A': {1: 'Geeks', 3: 'Geeks'}}\n",
      "\n",
      "Deleting Entire Dictionary: \n",
      "{}\n"
     ]
    }
   ],
   "source": [
    "# Initial Dictionary \n",
    "# Dictionary Modification Commands \n",
    "\n",
    "\n",
    "Dict = { 5 : 'Welcome', 6 : 'To', 7 : 'Geeks', \n",
    "        'A' : {1 : 'Geeks', 2 : 'For', 3 : 'Geeks'}, \n",
    "        'B' : {1 : 'Geeks', 2 : 'Life'}} \n",
    "print(\"Initial Dictionary: \") \n",
    "print(Dict) \n",
    "  \n",
    "# Deleting a Key value \n",
    "del Dict[6] \n",
    "print(\"\\nDeleting a specific key: \") \n",
    "print(Dict) \n",
    "  \n",
    "# Deleting a Key from \n",
    "# Nested Dictionary \n",
    "del Dict['A'][2] \n",
    "print(\"\\nDeleting a key from Nested Dictionary: \") \n",
    "print(Dict) \n",
    "  \n",
    "# Deleting a Key  \n",
    "# using pop() \n",
    "Dict.pop(5) \n",
    "print(\"\\nPopping specific element: \") \n",
    "print(Dict) \n",
    "  \n",
    "# Deleting a Key \n",
    "# using popitem() \n",
    "Dict.popitem() \n",
    "print(\"\\nPops first element: \") \n",
    "print(Dict) \n",
    "  \n",
    "# Deleting entire Dictionary \n",
    "Dict.clear() \n",
    "print(\"\\nDeleting Entire Dictionary: \") \n",
    "print(Dict) "
   ]
  },
  {
   "cell_type": "code",
   "execution_count": 79,
   "metadata": {},
   "outputs": [
    {
     "name": "stdout",
     "output_type": "stream",
     "text": [
      "{1: 'Geeks', 2: 'For', 3: {'A': 'Welcome', 'B': 'To', 'C': 'Geeks'}}\n"
     ]
    }
   ],
   "source": [
    "# Creating a Nested Dictionary  \n",
    "# as shown in the below image \n",
    "Dict = {1: 'Geeks', 2: 'For',  \n",
    "        3:{'A' : 'Welcome', 'B' : 'To', 'C' : 'Geeks'}} \n",
    "  \n",
    "print(Dict) "
   ]
  },
  {
   "cell_type": "markdown",
   "metadata": {},
   "source": [
    "<img src=\"data/dict.png\" style=\"width: 500px;\">"
   ]
  },
  {
   "cell_type": "markdown",
   "metadata": {},
   "source": [
    "_________________"
   ]
  },
  {
   "cell_type": "markdown",
   "metadata": {},
   "source": [
    "### 4 . Flow Control  <a id='section4'></a>"
   ]
  },
  {
   "cell_type": "markdown",
   "metadata": {},
   "source": [
    "__IF, ELSE , ELIF STATEMENT__\n",
    "\n",
    "```python\n",
    "flag = 4 \n",
    "if flag > 10:\n",
    "    # do something \n",
    "    pass\n",
    "elif flag = 4 :\n",
    "    # do something cooler \n",
    "    pass\n",
    "else :\n",
    "    # go to sleep\n",
    "    pass\n",
    "```"
   ]
  },
  {
   "cell_type": "markdown",
   "metadata": {},
   "source": [
    "__LOGICAL OPERATORS__\n",
    "\n",
    "> __FALSY VALUES__\n",
    "1. 0\n",
    "2. ''\n",
    "3. None\n",
    "4. []\n",
    "\n",
    "\n",
    "Using falsy values as conditions \n",
    "```python\n",
    "name = ''\n",
    "name2 = 'sam'\n",
    "\n",
    "if not name:\n",
    "    print('Name is empty')\n",
    "if not name2:\n",
    "    print('Name2 is empty')\n",
    "else:\n",
    "    print('Name2 is full')\n",
    "```\n",
    "\n",
    "Using _and_ and _or_\n",
    "```python\n",
    "age = 13\n",
    "if age>8 and age<40:\n",
    "    print('kid lol')\n",
    "elif 50<=age<80:\n",
    "    print('oldie lol')\n",
    "```\n",
    "\n"
   ]
  },
  {
   "cell_type": "code",
   "execution_count": 80,
   "metadata": {},
   "outputs": [
    {
     "name": "stdout",
     "output_type": "stream",
     "text": [
      "Name is empty\n",
      "Name2 is full\n"
     ]
    }
   ],
   "source": [
    "name = ''\n",
    "name2 = 'sam'\n",
    "\n",
    "if not name:\n",
    "    print('Name is empty')\n",
    "if not name2:\n",
    "    print('Name2 is empty')\n",
    "else:\n",
    "    print('Name2 is full')"
   ]
  },
  {
   "cell_type": "code",
   "execution_count": 81,
   "metadata": {},
   "outputs": [
    {
     "name": "stdout",
     "output_type": "stream",
     "text": [
      "oldie lol\n"
     ]
    }
   ],
   "source": [
    "age = 52\n",
    "if age>8 and age<40:\n",
    "    print('kid lol')\n",
    "elif 50<=age<80:\n",
    "    print('oldie lol')"
   ]
  },
  {
   "cell_type": "markdown",
   "metadata": {},
   "source": [
    "__TERNARY OPERATOR__\n",
    "\n",
    "> Just Type it Out\n",
    "\n",
    "```python\n",
    "salary = 50000\n",
    "person = 'Rich' if salary>30000 else 'Poor'\n",
    "```"
   ]
  },
  {
   "cell_type": "code",
   "execution_count": 82,
   "metadata": {},
   "outputs": [
    {
     "name": "stdout",
     "output_type": "stream",
     "text": [
      "Rich\n"
     ]
    }
   ],
   "source": [
    "salary = 50000\n",
    "person = 'Rich' if salary>30000 else 'Poor'\n",
    "print(person)"
   ]
  },
  {
   "cell_type": "markdown",
   "metadata": {},
   "source": [
    "__FOR LOOPS__\n",
    "\n",
    "\n",
    "\n",
    "\n",
    "```python \n",
    "for x in 'Python':\n",
    "    print(x)\n",
    "    \n",
    "for y in [3 ,13,4 ,1 ,3 ,1]:\n",
    "    print(y)\n",
    "    \n",
    "for z in range(5):\n",
    "    print(z)\n",
    "\n",
    "for z in range(0 ,50,2):        # first , last , step\n",
    "    print(z)\n",
    "\n",
    "for z in range(100 ,50,-1):        # first , last , step\n",
    "    print(z)\n",
    "\n",
    "```\n",
    "\n",
    "range does not return list but a range object and take a small amount of memory , so better for longer\n",
    "\n",
    "\n",
    "__note__ : \n",
    "Python has a better way to implement flags : __for-else blobs__\n",
    "\n",
    ">else runs when the for loop runs without a break\n",
    "\n",
    "```python\n",
    "names = ['Sam','Hem']\n",
    "\n",
    "for name in names :\n",
    "    if name.startswith('S'):\n",
    "        print('Found')\n",
    "        break \n",
    "else:\n",
    "    print('Not Found')\n",
    "```\n",
    "\n",
    "\n",
    "__pythonic indexed loops__\n",
    "\n",
    ">Enumerator is a generator \n",
    "\n",
    "```python\n",
    "for i , item in enumerate(my_items):\n",
    "    print(i,items)\n",
    "```"
   ]
  },
  {
   "cell_type": "code",
   "execution_count": 83,
   "metadata": {},
   "outputs": [
    {
     "name": "stdout",
     "output_type": "stream",
     "text": [
      "Not Found\n"
     ]
    }
   ],
   "source": [
    "names = ['Bam','Hem']\n",
    "\n",
    "for name in names :\n",
    "    if name.startswith('S'):\n",
    "        print('Found')\n",
    "        break \n",
    "else:\n",
    "    print('Not Found')"
   ]
  },
  {
   "cell_type": "code",
   "execution_count": 3,
   "metadata": {},
   "outputs": [
    {
     "name": "stdout",
     "output_type": "stream",
     "text": [
      "P\n",
      "y\n",
      "n\n",
      "3\n",
      "13\n",
      "4\n",
      "1\n",
      "3\n",
      "1\n",
      "0\n",
      "1\n",
      "2\n",
      "3\n",
      "4\n",
      "0\n",
      "2\n",
      "100\n",
      "99\n",
      "98\n",
      "97\n",
      "96\n",
      "95\n",
      "94\n",
      "93\n",
      "92\n",
      "91\n"
     ]
    }
   ],
   "source": [
    "for x in 'Pyn':\n",
    "    print(x)\n",
    "    \n",
    "for y in [3 ,13,4 ,1 ,3 ,1]:\n",
    "    print(y)\n",
    "    \n",
    "for z in range(5):\n",
    "    print(z)\n",
    "\n",
    "for z in range(0 ,4,2):        # first , last , step\n",
    "    print(z)\n",
    "\n",
    "for z in range(100 ,90,-1):        # first , last , step\n",
    "    print(z)"
   ]
  },
  {
   "cell_type": "markdown",
   "metadata": {},
   "source": [
    "__WHILE LOOPS__\n",
    " \n",
    "Also has the _amazing else_ feature \n",
    "\n",
    "```python\n",
    "something = 5 \n",
    "while something:\n",
    "    print(something)\n",
    "    something = something -1 \n",
    "else:\n",
    "    print('what')\n",
    "\n",
    "```\n",
    " \n",
    " "
   ]
  },
  {
   "cell_type": "code",
   "execution_count": 85,
   "metadata": {},
   "outputs": [
    {
     "name": "stdout",
     "output_type": "stream",
     "text": [
      "5\n",
      "4\n",
      "3\n",
      "2\n",
      "1\n",
      "what\n"
     ]
    }
   ],
   "source": [
    "something = 5 \n",
    "while something:\n",
    "    print(something)\n",
    "    something = something -1 \n",
    "else:\n",
    "    print('what')"
   ]
  },
  {
   "cell_type": "markdown",
   "metadata": {},
   "source": [
    "_________________"
   ]
  },
  {
   "cell_type": "markdown",
   "metadata": {},
   "source": [
    "### 5. Functions\n",
    "\n",
    "Bare Minimum\n",
    "\n",
    "```python\n",
    "#Definition\n",
    "def function_name(parameters):\n",
    "    pass\n",
    "\n",
    "#Function call \n",
    "function_name()\n",
    "```"
   ]
  },
  {
   "cell_type": "markdown",
   "metadata": {},
   "source": [
    "__RETURN__\n",
    "\n",
    "```python\n",
    "def return_one():\n",
    "   return 2  #Returns an integer \n",
    "\n",
    "def return_two():\n",
    "   return 2,3  #Returns a tuple \n",
    "```"
   ]
  },
  {
   "cell_type": "markdown",
   "metadata": {},
   "source": [
    "__DEFAULT VALUE__\n",
    "\n",
    "```python\n",
    "def return_one(a , b=3):\n",
    "   return a+b  \n",
    "\n",
    "```"
   ]
  },
  {
   "cell_type": "markdown",
   "metadata": {},
   "source": [
    "__ANNOTATION__\n",
    "\n",
    "```python\n",
    "def return_one(a , b=3) ->tuple :\n",
    "   return a,b \n",
    "\n",
    "```"
   ]
  },
  {
   "cell_type": "markdown",
   "metadata": {},
   "source": [
    "__VARIABLE ARGUMENTS (*)__ \n",
    "\n",
    "can add any number of arguments , all parameters are packaged into a tuple \n",
    "\n",
    "```python\n",
    "def return_one(*a):\n",
    "    print(a)\n",
    "\n",
    "```"
   ]
  },
  {
   "cell_type": "markdown",
   "metadata": {},
   "source": [
    "__KEYWORD VARIABLE ARGUMENTS (**)__ \n",
    "\n",
    "can add any number of arguments , all parameters are packaged into a dictionary\n",
    "\n",
    "```python\n",
    "def return_one(**a):\n",
    "    print(a)\n",
    "\n",
    "return_one (id=1,name='sam')\n",
    "```\n"
   ]
  },
  {
   "cell_type": "code",
   "execution_count": 90,
   "metadata": {},
   "outputs": [
    {
     "name": "stdout",
     "output_type": "stream",
     "text": [
      "{'id': 1, 'name': 'sam'}\n"
     ]
    }
   ],
   "source": [
    "def return_one(**a):\n",
    "    print(a)\n",
    "\n",
    "return_one (id=1,name='sam')"
   ]
  },
  {
   "cell_type": "markdown",
   "metadata": {},
   "source": [
    "----------------"
   ]
  },
  {
   "cell_type": "markdown",
   "metadata": {},
   "source": [
    "### 5.FUNCTIONS <a id='section5'></a>\n",
    "\n",
    "\n",
    "Lines of code as a package <br>\n",
    "DRY = Dont Recieve Yourself \n",
    "\n"
   ]
  },
  {
   "cell_type": "markdown",
   "metadata": {},
   "source": [
    "----------------"
   ]
  },
  {
   "cell_type": "markdown",
   "metadata": {},
   "source": [
    "### 6.CLASSES <a id='section6'></a>\n",
    "\n",
    "Logically group functions(methods) and variables(attributes). "
   ]
  },
  {
   "cell_type": "markdown",
   "metadata": {},
   "source": [
    "__CLASS DECLARATION AND INSTANTIATOIN__\n",
    "\n",
    "```python\n",
    "# Declaration\n",
    "class Employee:\n",
    "    pass\n",
    "\n",
    "# Instantiation\n",
    "emp1 = Employee()\n",
    "emp3 = Enployee()\n",
    "```"
   ]
  },
  {
   "cell_type": "markdown",
   "metadata": {},
   "source": [
    "__CLASS & INSTANT VARIABLES__\n",
    "\n",
    "Instant Variables \n",
    "```python\n",
    "class Employee:\n",
    "    pass\n",
    "\n",
    "emp1 = Employee()\n",
    "emp1.first = 'Sam'\n",
    "emp1.last = 'Big Man'\n",
    "```\n",
    "\n",
    "Class Variables <br/>\n",
    "_Same for each instance of the class_\n",
    "```python\n",
    "class Emp:\n",
    "    raise_amt = 3 \n",
    "    \n",
    "    def __init__(self,first,last,pay):\n",
    "        self.first = first\n",
    "        self.last = last\n",
    "        self.pay = pay\n",
    "        self.email = first + '.' + last +'@company.com'\n",
    "     \n",
    "    def getRaise(self):\n",
    "        #both are the same ways . \n",
    "        print(Emp.raise_amt)\n",
    "        print(self.raise_amt)\n",
    "        \n",
    "\n",
    "```\n",
    "\n",
    "> basically variables are first checked for in the instance , then the class , then the inheriting classes . "
   ]
  },
  {
   "cell_type": "markdown",
   "metadata": {},
   "source": [
    "__INIT METHOD__\n",
    "\n",
    "```python\n",
    "class Emp:\n",
    "    def __init__(self,first,last,pay):\n",
    "        self.first = first\n",
    "        self.last = last\n",
    "        self.pay = pay\n",
    "        self.email = first + '.' + last +'@company.com'\n",
    "        \n",
    "```\n"
   ]
  },
  {
   "cell_type": "markdown",
   "metadata": {},
   "source": [
    ">__SELF__\n",
    "\n",
    ">Each method in class takes the instance as the first argument , conventionally called self but it can be anything . Instance is passed automatically but not recieved . \n",
    "\n",
    "\n",
    "\n",
    "note : __2 ways of running class functions__\n",
    "```python\n",
    "class Emp:\n",
    "    def __init__(self,first,last,pay):\n",
    "        self.first = first\n",
    "        self.last = last\n",
    "        self.pay = pay\n",
    "        self.email = first + '.' + last +'@company.com'\n",
    "    \n",
    "    def fullname(self):\n",
    "        return f'{self.first} {self.last}'\n",
    "            \n",
    "\n",
    "# call to class \n",
    "\n",
    "emp1 = Emp('Big','what',12345)\n",
    "\n",
    "# Below 2 perform the same thing \n",
    "emp1.fullname() \n",
    "Employee.fullname(emp1)\n",
    "```\n",
    "> Essentially the class method takes an instance as a parameter , in 1 , we already have a parameter , in 2 we provide an instance . "
   ]
  },
  {
   "cell_type": "code",
   "execution_count": 9,
   "metadata": {},
   "outputs": [
    {
     "name": "stdout",
     "output_type": "stream",
     "text": [
      "Big Man\n",
      "Big Man\n"
     ]
    }
   ],
   "source": [
    "class Emp:\n",
    "    def __init__(self,first,last,pay):\n",
    "        self.first = first\n",
    "        self.last = last\n",
    "        self.pay = pay\n",
    "        self.email = first + '.' + last +'@company.com'\n",
    "    \n",
    "    def fullname(self):\n",
    "        return f'{self.first} {self.last}'\n",
    "            \n",
    "\n",
    "# call to class \n",
    "\n",
    "emp1 = Emp('Big','Man',12345)\n",
    "\n",
    "# Below 2 perform the same thing \n",
    "print(emp1.fullname() )\n",
    "print(Emp.fullname(emp1))"
   ]
  },
  {
   "cell_type": "markdown",
   "metadata": {},
   "source": [
    "__METHODS__\n",
    "1. Regular Methods \n",
    "    - Automatically take instace as the first argument . \n",
    "2. Class Methods \n",
    "    - Take the class as the first argument .\n",
    "    - Use decorator to create class methods (@classmethod)\n",
    "    - class is conventionally called cls  \n",
    "    - Typically used to update class variables   (see eg.1)\n",
    "    - Also used as an alternate constructor (see eg.2)\n",
    "3. Static Methods \n",
    "    - Don't pass anything by default \n",
    "    - Decorator used , (@staticmethod)\n",
    "    - Basically if the self or cls are not used , the method can be a static method most likely \n",
    "\n",
    "\n",
    "```python\n",
    "#Method Example \n",
    "class Emp:\n",
    "    raise_amt = 30\n",
    "    \n",
    "    def __init__(self,first,last,pay):\n",
    "        self.first = first\n",
    "        self.last = last\n",
    "        self.pay = pay\n",
    "        self.email = first + '.' + last +'@company.com'\n",
    "    \n",
    "    def fullname(self):\n",
    "        return f'{self.first} {self.last}'\n",
    "\n",
    "    @classmethod #1 \n",
    "    def change_raise(cls , amount):\n",
    "        cls.raise_amt = amount\n",
    "    \n",
    "    @classmethod #2\n",
    "    def from_str(cls , strng):\n",
    "        first,last,pay = strng.split('-')\n",
    "        return cls(first,last,pay)\n",
    "    \n",
    "    @staticmethod\n",
    "    def is_hol(day):\n",
    "        if day == 'Sunday':\n",
    "            return True\n",
    "        \n",
    "\n",
    "\n",
    "    \n",
    "nep_emp_1 = Emp.from_str('sam-adam-2193')\n",
    "        \n",
    "```"
   ]
  },
  {
   "cell_type": "markdown",
   "metadata": {},
   "source": [
    "__INHERITANCE__\n",
    "\n",
    "\n",
    "> Method Resolution Array \n",
    "basically the chain that python follows to look for stuff \n",
    "\n",
    "help(class)"
   ]
  },
  {
   "cell_type": "code",
   "execution_count": 15,
   "metadata": {},
   "outputs": [],
   "source": [
    "# Base Class \n",
    "\n",
    "class Emp:\n",
    "    raise_amt = 30\n",
    "    \n",
    "    def __init__(self,first,last,pay):\n",
    "        self.first = first\n",
    "        self.last = last\n",
    "        self.pay = pay\n",
    "        self.email = first + '.' + last +'@company.com'\n",
    "    \n",
    "    def fullname(self):\n",
    "        return f'{self.first} {self.last}'\n",
    "\n",
    "    @classmethod #1 \n",
    "    def change_raise(cls , amount):\n",
    "        cls.raise_amt = amount\n",
    "    \n",
    "    @classmethod #2\n",
    "    def from_str(cls , strng):\n",
    "        first,last,pay = strng.split('-')\n",
    "        return cls(first,last,pay)\n",
    "    \n",
    "    @staticmethod\n",
    "    def is_hol(day):\n",
    "        if day == 'Sunday':\n",
    "            return True\n",
    " \n",
    "\n",
    "class Accountant(Emp):\n",
    "    def __init__(self,first,last,pay,new_var):\n",
    "        super().__init__(first,last,pay)\n",
    "        self.new_var = new_var"
   ]
  },
  {
   "cell_type": "markdown",
   "metadata": {},
   "source": [
    "### 9.EXTRA DOPENESS <a id='section8'></a>\n",
    "\n",
    "Random Stuff I am supposed to know "
   ]
  },
  {
   "cell_type": "markdown",
   "metadata": {},
   "source": [
    "#### 9.1 - Map   <a id='section9-1'></a>\n",
    "\n",
    "Returns a list after performing some operation on it -> __Actually a map object__\n",
    "\n",
    "```python\n",
    "map(fun, iter) \n",
    "```"
   ]
  },
  {
   "cell_type": "code",
   "execution_count": 14,
   "metadata": {},
   "outputs": [
    {
     "name": "stdout",
     "output_type": "stream",
     "text": [
      "<map object at 0x10c782da0>\n",
      "[1, 4, 9, 16]\n"
     ]
    }
   ],
   "source": [
    "# Return double of n \n",
    "def sqrr(n): \n",
    "    return n * n \n",
    "  \n",
    " \n",
    "sample = (1, 2, 3, 4) \n",
    "result = map(sqrr, sample) \n",
    "print(result)\n",
    "print(list(result)) "
   ]
  },
  {
   "cell_type": "code",
   "execution_count": 16,
   "metadata": {},
   "outputs": [
    {
     "name": "stdout",
     "output_type": "stream",
     "text": [
      "[2, 4, 6, 8]\n"
     ]
    }
   ],
   "source": [
    "# Map using lambda Functions \n",
    "# Double all numbers using map and lambda \n",
    "  \n",
    "numbers = (1, 2, 3, 4) \n",
    "result = map(lambda x: x + x, numbers) \n",
    "print(list(result)) "
   ]
  },
  {
   "cell_type": "code",
   "execution_count": null,
   "metadata": {},
   "outputs": [],
   "source": [
    "# Map , lambda , 2 lists\n",
    "\n",
    "numbers1 = [1, 2, 3] \n",
    "numbers2 = [4, 5, 6] \n",
    "  \n",
    "result = map(lambda x, y: x + y, numbers1, numbers2) \n",
    "print(list(result))"
   ]
  },
  {
   "cell_type": "markdown",
   "metadata": {},
   "source": [
    "#### 9.2 - Zip   <a id='section9-2'></a>\n",
    "Basically map similar index of containers\n",
    "Returns a zip object \n"
   ]
  },
  {
   "cell_type": "code",
   "execution_count": 18,
   "metadata": {},
   "outputs": [
    {
     "name": "stdout",
     "output_type": "stream",
     "text": [
      "{('Charles', 'Christy'), ('Mike', 'Monica'), ('John', 'Jenny')}\n",
      "{'John': 'Jenny', 'Charles': 'Christy', 'Mike': 'Monica'}\n"
     ]
    }
   ],
   "source": [
    "#ZIPPING \n",
    "\n",
    "a = (\"John\", \"Charles\", \"Mike\")\n",
    "b = (\"Jenny\", \"Christy\", \"Monica\")\n",
    "\n",
    "x = zip(a, b)\n",
    "mapped = set(x) \n",
    "\n",
    "x = zip(a, b)\n",
    "dicted = dict(x)\n",
    "print(mapped)\n",
    "print(dicted)"
   ]
  },
  {
   "cell_type": "markdown",
   "metadata": {},
   "source": [
    "Once zip is used , make it we need to make it again to be reusable <br>\n",
    "ie. \n",
    "```python\n",
    "a = (\"John\", \"Charles\", \"Mike\")\n",
    "b = (\"Jenny\", \"Christy\", \"Monica\")\n",
    "\n",
    "x = zip(a, b)\n",
    "mapped = set(x) \n",
    "dicted = dict(x)\n",
    "# Dicted will be EMPTY - See below\n",
    "```"
   ]
  },
  {
   "cell_type": "code",
   "execution_count": 16,
   "metadata": {},
   "outputs": [],
   "source": [
    "a = (\"John\", \"Charles\", \"Mike\")\n",
    "b = (\"Jenny\", \"Christy\", \"Monica\")\n",
    "\n",
    "x = zip(a, b)\n",
    "mapped = set(x) \n",
    "dicted = dict(x)"
   ]
  },
  {
   "cell_type": "code",
   "execution_count": 17,
   "metadata": {},
   "outputs": [
    {
     "data": {
      "text/plain": [
       "{}"
      ]
     },
     "execution_count": 17,
     "metadata": {},
     "output_type": "execute_result"
    }
   ],
   "source": [
    "dicted"
   ]
  },
  {
   "cell_type": "code",
   "execution_count": 20,
   "metadata": {},
   "outputs": [
    {
     "name": "stdout",
     "output_type": "stream",
     "text": [
      "('Charles', 'Mike', 'John')\n"
     ]
    }
   ],
   "source": [
    "#UNZIPPING \n",
    "\n",
    "a = (\"John\", \"Charles\", \"Mike\")\n",
    "b = (\"Jenny\", \"Christy\", \"Monica\")\n",
    "\n",
    "x = zip(a, b)\n",
    "mapped = set(x) \n",
    "\n",
    "c,d = zip(*mapped) \n",
    "print(c)"
   ]
  },
  {
   "cell_type": "markdown",
   "metadata": {},
   "source": [
    "#### 9.3 - Lambda Functions   <a id='section9-3'></a>\n",
    "Quickly make functions to do something - They are __Anonymous__ and have no name.\n",
    "<br> Can be used with built -in functions like - filter , map and reduce\n",
    "\n",
    "\n",
    "```python\n",
    "lambda arguments: expression\n",
    "```"
   ]
  },
  {
   "cell_type": "code",
   "execution_count": 22,
   "metadata": {},
   "outputs": [
    {
     "name": "stdout",
     "output_type": "stream",
     "text": [
      "15\n",
      "30\n"
     ]
    }
   ],
   "source": [
    "# Assigned to a var\n",
    "x = lambda a : a + 10\n",
    "print(x(5))\n",
    "\n",
    "# Take 2 arguments \n",
    "x = lambda a, b : a * b\n",
    "print(x(5, 6))"
   ]
  },
  {
   "cell_type": "code",
   "execution_count": 23,
   "metadata": {},
   "outputs": [
    {
     "name": "stdout",
     "output_type": "stream",
     "text": [
      "[5, 7, 97, 77, 23, 73, 61]\n"
     ]
    }
   ],
   "source": [
    "#Lambda + Filter \n",
    "li = [5, 7, 22, 97, 54, 62, 77, 23, 73, 61] \n",
    "final_list = list(filter(lambda x: (x%2 != 0) , li)) \n",
    "print(final_list) "
   ]
  },
  {
   "cell_type": "code",
   "execution_count": 24,
   "metadata": {},
   "outputs": [
    {
     "name": "stdout",
     "output_type": "stream",
     "text": [
      "[10, 14, 44, 194, 108, 124, 154, 46, 146, 122]\n"
     ]
    }
   ],
   "source": [
    "# Lambda + Map\n",
    "li = [5, 7, 22, 97, 54, 62, 77, 23, 73, 61] \n",
    "final_list = list(map(lambda x: x*2 , li)) \n",
    "print(final_list) "
   ]
  },
  {
   "cell_type": "code",
   "execution_count": 25,
   "metadata": {},
   "outputs": [
    {
     "name": "stdout",
     "output_type": "stream",
     "text": [
      "193\n"
     ]
    }
   ],
   "source": [
    "# Lambda + Reduce\n",
    "from functools import reduce\n",
    "li = [5, 8, 10, 20, 50, 100] \n",
    "sum = reduce((lambda x, y: x + y), li) \n",
    "print (sum) "
   ]
  },
  {
   "cell_type": "markdown",
   "metadata": {},
   "source": [
    "#### 9.4 - Generators <a id='section9-3'></a>\n",
    "\n",
    "1. Normal iterators have large overhead (see9.7)-> we need class defs, separate functions etc . \n",
    "2. Generator is a __function__ that returns an iterator object\n",
    "\n",
    "__IF A FUNCTION CONTAINS AT LEAST 1 'yield' KEYWORD , IT IS A GENERATOR__\n",
    "\n",
    "__return__ : Terminates the function entirely<br>\n",
    "__yield__ : Pauses function and saves the current state of the funtion \n",
    "\n",
    "__ITERATOR DOES NOT START RETURNING IMMEDIATELY__ \n",
    "1. First iterator is set up \n",
    "2. Then we can return values using the __next__ call\n",
    "A __StopIteration__ is raised to signify function stop in case of a Generator (automatically)"
   ]
  },
  {
   "cell_type": "code",
   "execution_count": 33,
   "metadata": {},
   "outputs": [],
   "source": [
    "# A simple generator function\n",
    "def my_gen():\n",
    "    n = 1\n",
    "    print('This is printed first')\n",
    "    # Generator function contains yield statements\n",
    "    yield n\n",
    "\n",
    "    n += 1\n",
    "    print('This is printed second')\n",
    "    yield n\n",
    "\n",
    "    n += 1\n",
    "    print('This is printed at last')\n",
    "    yield n"
   ]
  },
  {
   "cell_type": "code",
   "execution_count": 29,
   "metadata": {},
   "outputs": [],
   "source": [
    "a = my_gen()"
   ]
  },
  {
   "cell_type": "code",
   "execution_count": 34,
   "metadata": {},
   "outputs": [
    {
     "name": "stdout",
     "output_type": "stream",
     "text": [
      "This is printed first\n"
     ]
    },
    {
     "data": {
      "text/plain": [
       "1"
      ]
     },
     "execution_count": 34,
     "metadata": {},
     "output_type": "execute_result"
    }
   ],
   "source": [
    "next(a)"
   ]
  },
  {
   "cell_type": "code",
   "execution_count": 35,
   "metadata": {},
   "outputs": [
    {
     "name": "stdout",
     "output_type": "stream",
     "text": [
      "This is printed second\n"
     ]
    },
    {
     "data": {
      "text/plain": [
       "2"
      ]
     },
     "execution_count": 35,
     "metadata": {},
     "output_type": "execute_result"
    }
   ],
   "source": [
    "next(a)"
   ]
  },
  {
   "cell_type": "code",
   "execution_count": 36,
   "metadata": {},
   "outputs": [
    {
     "name": "stdout",
     "output_type": "stream",
     "text": [
      "This is printed at last\n"
     ]
    },
    {
     "data": {
      "text/plain": [
       "3"
      ]
     },
     "execution_count": 36,
     "metadata": {},
     "output_type": "execute_result"
    }
   ],
   "source": [
    "next(a)"
   ]
  },
  {
   "cell_type": "code",
   "execution_count": 37,
   "metadata": {},
   "outputs": [
    {
     "ename": "StopIteration",
     "evalue": "",
     "output_type": "error",
     "traceback": [
      "\u001b[0;31m---------------------------------------------------------------------------\u001b[0m",
      "\u001b[0;31mStopIteration\u001b[0m                             Traceback (most recent call last)",
      "\u001b[0;32m<ipython-input-37-15841f3f11d4>\u001b[0m in \u001b[0;36m<module>\u001b[0;34m\u001b[0m\n\u001b[0;32m----> 1\u001b[0;31m \u001b[0mnext\u001b[0m\u001b[0;34m(\u001b[0m\u001b[0ma\u001b[0m\u001b[0;34m)\u001b[0m\u001b[0;34m\u001b[0m\u001b[0m\n\u001b[0m",
      "\u001b[0;31mStopIteration\u001b[0m: "
     ]
    }
   ],
   "source": [
    "next(a)"
   ]
  },
  {
   "cell_type": "code",
   "execution_count": 38,
   "metadata": {},
   "outputs": [
    {
     "name": "stdout",
     "output_type": "stream",
     "text": [
      "1\n",
      "2\n",
      "3\n"
     ]
    }
   ],
   "source": [
    "def simpleGeneratorFun(): \n",
    "    yield 1            \n",
    "    yield 2            \n",
    "    yield 3            \n",
    "   \n",
    "# Driver code to check above generator function \n",
    "for value in simpleGeneratorFun():  \n",
    "    print(value) "
   ]
  },
  {
   "cell_type": "markdown",
   "metadata": {},
   "source": [
    "#### 9.1 - Misc STL Functions<a id='section9-5'></a>"
   ]
  },
  {
   "cell_type": "code",
   "execution_count": 31,
   "metadata": {},
   "outputs": [
    {
     "data": {
      "text/plain": [
       "97"
      ]
     },
     "execution_count": 31,
     "metadata": {},
     "output_type": "execute_result"
    }
   ],
   "source": [
    "# Return UNICODE encoding of an entered key \n",
    "ord('a')"
   ]
  },
  {
   "cell_type": "code",
   "execution_count": 39,
   "metadata": {},
   "outputs": [
    {
     "name": "stdout",
     "output_type": "stream",
     "text": [
      "140296010573256\n",
      "4454046448\n"
     ]
    }
   ],
   "source": [
    "# A unique ID generated for an object is returned . ID remains same for a run - Object Lifetime\n",
    "some_variable=3\n",
    "class some_class():\n",
    "    pass\n",
    "\n",
    "print(id(some_class))\n",
    "print(id(some_variable))"
   ]
  },
  {
   "cell_type": "markdown",
   "metadata": {},
   "source": []
  },
  {
   "cell_type": "markdown",
   "metadata": {},
   "source": [
    "#### 9.7 - Iterators in Python <a id='section9-7'></a>\n",
    "__Object__ that can be iterated upon  , return data one element at a time\n",
    "\n",
    "```python \n",
    "# ALL ITERATORS MUST IMPLEMENT 2 SPECIAL METHODS:\n",
    "1. __iter__()\n",
    "2. __next__()\n",
    "```\n",
    "\n",
    "__MORE IN DEPTH__\n",
    "```python \n",
    "# define a list\n",
    "my_list = [4, 7, 0, 3]\n",
    "# get an iterator using iter()\n",
    "my_iter = iter(my_list)\n",
    "## iterate through it using next() \n",
    "#prints 4\n",
    "print(next(my_iter))\n",
    "#prints 7\n",
    "print(next(my_iter))\n",
    "## next(obj) is same as obj.__next__()\n",
    "#prints 0\n",
    "print(my_iter.__next__())\n",
    "#prints 3\n",
    "print(mz_iter.__next__())\n",
    "## This will raise error, no items left\n",
    "next(my_iter)\n",
    "\n",
    "```"
   ]
  },
  {
   "cell_type": "code",
   "execution_count": null,
   "metadata": {},
   "outputs": [],
   "source": []
  }
 ],
 "metadata": {
  "kernelspec": {
   "display_name": "Python 3",
   "language": "python",
   "name": "python3"
  },
  "language_info": {
   "codemirror_mode": {
    "name": "ipython",
    "version": 3
   },
   "file_extension": ".py",
   "mimetype": "text/x-python",
   "name": "python",
   "nbconvert_exporter": "python",
   "pygments_lexer": "ipython3",
   "version": "3.6.5"
  }
 },
 "nbformat": 4,
 "nbformat_minor": 2
}
